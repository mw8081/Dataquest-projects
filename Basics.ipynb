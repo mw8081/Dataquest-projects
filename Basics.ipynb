{
 "cells": [
  {
   "cell_type": "code",
   "execution_count": 3,
   "metadata": {
    "collapsed": false,
    "scrolled": true
   },
   "outputs": [
    {
     "name": "stdout",
     "output_type": "stream",
     "text": [
      "[['1', '2012', '01', 'Suicide', '0', 'M', '34', 'Asian/Pacific Islander', '100', 'Home', '4'], ['2', '2012', '01', 'Suicide', '0', 'F', '21', 'White', '100', 'Street', '3'], ['3', '2012', '01', 'Suicide', '0', 'M', '60', 'White', '100', 'Other specified', '4'], ['4', '2012', '02', 'Suicide', '0', 'M', '64', 'White', '100', 'Home', '4']]\n"
     ]
    }
   ],
   "source": [
    "import csv \n",
    "\n",
    "f=open('guns.csv','r')\n",
    "data=list(csv.reader(f))\n",
    "print(data[1:5])\n"
   ]
  },
  {
   "cell_type": "code",
   "execution_count": 4,
   "metadata": {
    "collapsed": false,
    "scrolled": false
   },
   "outputs": [
    {
     "name": "stdout",
     "output_type": "stream",
     "text": [
      "[['1', '2012', '01', 'Suicide', '0', 'M', '34', 'Asian/Pacific Islander', '100', 'Home', '4'], ['2', '2012', '01', 'Suicide', '0', 'F', '21', 'White', '100', 'Street', '3'], ['3', '2012', '01', 'Suicide', '0', 'M', '60', 'White', '100', 'Other specified', '4'], ['4', '2012', '02', 'Suicide', '0', 'M', '64', 'White', '100', 'Home', '4']]\n",
      "['', 'year', 'month', 'intent', 'police', 'sex', 'age', 'race', 'hispanic', 'place', 'education']\n"
     ]
    }
   ],
   "source": [
    "headers=data[0]\n",
    "data=data[1:]\n",
    "print(data[0:4])\n",
    "print(headers)"
   ]
  },
  {
   "cell_type": "code",
   "execution_count": 5,
   "metadata": {
    "collapsed": false,
    "scrolled": false
   },
   "outputs": [
    {
     "name": "stdout",
     "output_type": "stream",
     "text": [
      "{2012: 33563, 2013: 33636, 2014: 33599}\n"
     ]
    }
   ],
   "source": [
    "years=[]\n",
    "for x in data:\n",
    "    year=int(float(x[1]))\n",
    "    years.append(year)\n",
    "\n",
    "year_counts={}    \n",
    "for x in years:\n",
    "    if x in year_counts:\n",
    "        year_counts[x]=year_counts[x]+1\n",
    "    else: \n",
    "        year_counts[x]=1\n",
    "print(year_counts)        \n",
    "        "
   ]
  },
  {
   "cell_type": "code",
   "execution_count": 6,
   "metadata": {
    "collapsed": false
   },
   "outputs": [
    {
     "name": "stdout",
     "output_type": "stream",
     "text": [
      "[datetime.datetime(2012, 1, 1, 0, 0), datetime.datetime(2012, 1, 1, 0, 0), datetime.datetime(2012, 1, 1, 0, 0), datetime.datetime(2012, 2, 1, 0, 0)]\n"
     ]
    }
   ],
   "source": [
    "import datetime\n",
    "\n",
    "dates=[]\n",
    "for x in data:\n",
    "    date = datetime.datetime(year=int(x[1]),month=int(x[2]),day=1)\n",
    "    dates.append(date)\n",
    "print(dates[0:4])"
   ]
  },
  {
   "cell_type": "code",
   "execution_count": 7,
   "metadata": {
    "collapsed": false
   },
   "outputs": [
    {
     "name": "stdout",
     "output_type": "stream",
     "text": [
      "{datetime.datetime(2014, 1, 1, 0, 0): 2651, datetime.datetime(2014, 5, 1, 0, 0): 2864, datetime.datetime(2012, 6, 1, 0, 0): 2826, datetime.datetime(2014, 7, 1, 0, 0): 2884, datetime.datetime(2013, 10, 1, 0, 0): 2808, datetime.datetime(2014, 4, 1, 0, 0): 2862, datetime.datetime(2012, 11, 1, 0, 0): 2729, datetime.datetime(2012, 8, 1, 0, 0): 2954, datetime.datetime(2013, 4, 1, 0, 0): 2798, datetime.datetime(2014, 8, 1, 0, 0): 2970, datetime.datetime(2013, 7, 1, 0, 0): 3079, datetime.datetime(2014, 2, 1, 0, 0): 2361, datetime.datetime(2013, 6, 1, 0, 0): 2920, datetime.datetime(2013, 1, 1, 0, 0): 2864, datetime.datetime(2014, 3, 1, 0, 0): 2684, datetime.datetime(2012, 3, 1, 0, 0): 2743, datetime.datetime(2014, 11, 1, 0, 0): 2756, datetime.datetime(2014, 12, 1, 0, 0): 2857, datetime.datetime(2013, 2, 1, 0, 0): 2375, datetime.datetime(2012, 7, 1, 0, 0): 3026, datetime.datetime(2012, 12, 1, 0, 0): 2791, datetime.datetime(2014, 9, 1, 0, 0): 2914, datetime.datetime(2013, 12, 1, 0, 0): 2765, datetime.datetime(2012, 5, 1, 0, 0): 2999, datetime.datetime(2012, 2, 1, 0, 0): 2357, datetime.datetime(2012, 1, 1, 0, 0): 2758, datetime.datetime(2013, 9, 1, 0, 0): 2742, datetime.datetime(2013, 5, 1, 0, 0): 2806, datetime.datetime(2014, 10, 1, 0, 0): 2865, datetime.datetime(2014, 6, 1, 0, 0): 2931, datetime.datetime(2012, 4, 1, 0, 0): 2795, datetime.datetime(2013, 11, 1, 0, 0): 2758, datetime.datetime(2013, 8, 1, 0, 0): 2859, datetime.datetime(2013, 3, 1, 0, 0): 2862, datetime.datetime(2012, 9, 1, 0, 0): 2852, datetime.datetime(2012, 10, 1, 0, 0): 2733}\n"
     ]
    }
   ],
   "source": [
    "date_counts={}\n",
    "for x in dates:\n",
    "    if x in date_counts:\n",
    "        date_counts[x]=date_counts[x]+1\n",
    "    else:\n",
    "        date_counts[x]=1\n",
    "print(date_counts)        "
   ]
  },
  {
   "cell_type": "code",
   "execution_count": 8,
   "metadata": {
    "collapsed": false
   },
   "outputs": [
    {
     "name": "stdout",
     "output_type": "stream",
     "text": [
      "{'F': 14449, 'M': 86349}\n",
      "{'Asian/Pacific Islander': 1326, 'Hispanic': 9022, 'White': 66237, 'Black': 23296, 'Native American/Native Alaskan': 917}\n"
     ]
    }
   ],
   "source": [
    "sex_counts={}\n",
    "for x in data:\n",
    "    sex=x[5]\n",
    "    if sex in sex_counts:\n",
    "        sex_counts[sex]=sex_counts[sex]+1\n",
    "    else:\n",
    "        sex_counts[sex]=1\n",
    "        \n",
    "race_counts={}\n",
    "for x in data:\n",
    "    race=x[7]\n",
    "    if race in race_counts:\n",
    "        race_counts[race]=race_counts[race]+1\n",
    "    else:\n",
    "        race_counts[race]=1\n",
    "print(sex_counts)\n",
    "print(race_counts)"
   ]
  },
  {
   "cell_type": "code",
   "execution_count": 9,
   "metadata": {
    "collapsed": true
   },
   "outputs": [],
   "source": [
    "#In this chapter I have learned how to use modules, dates and list comprehensions."
   ]
  },
  {
   "cell_type": "code",
   "execution_count": 10,
   "metadata": {
    "collapsed": false
   },
   "outputs": [
    {
     "name": "stdout",
     "output_type": "stream",
     "text": [
      "[['Id', 'Year', 'Id', 'Sex', 'Id', 'Hispanic Origin', 'Id', 'Id2', 'Geography', 'Total', 'Race Alone - White', 'Race Alone - Hispanic', 'Race Alone - Black or African American', 'Race Alone - American Indian and Alaska Native', 'Race Alone - Asian', 'Race Alone - Native Hawaiian and Other Pacific Islander', 'Two or More Races'], ['cen42010', 'April 1, 2010 Census', 'totsex', 'Both Sexes', 'tothisp', 'Total', '0100000US', '', 'United States', '308745538', '197318956', '44618105', '40250635', '3739506', '15159516', '674625', '6984195']]\n"
     ]
    }
   ],
   "source": [
    "import csv\n",
    "\n",
    "f=open(\"census.csv\",'r')\n",
    "census=list(csv.reader(f))\n",
    "print(census)"
   ]
  },
  {
   "cell_type": "code",
   "execution_count": 11,
   "metadata": {
    "collapsed": false
   },
   "outputs": [
    {
     "name": "stdout",
     "output_type": "stream",
     "text": [
      "{'Asian/Pacific Islander': 22143711, 'Hispanic': 44618105, 'White': 197318956, 'Black': 40250635, 'Native American/Native Alaskan': 3739506}\n"
     ]
    }
   ],
   "source": [
    "populations=census[1]\n",
    "\n",
    "mapping={'Asian/Pacific Islander' : int(populations[14])+int(populations[16]),\n",
    "'Black':int(populations[12]), \n",
    "'Native American/Native Alaskan':int(populations[13]),\n",
    "'Hispanic':int(populations[11]),\n",
    "'White':int(populations[10])}\n",
    "\n",
    "print(mapping)"
   ]
  },
  {
   "cell_type": "code",
   "execution_count": 12,
   "metadata": {
    "collapsed": false
   },
   "outputs": [
    {
     "name": "stdout",
     "output_type": "stream",
     "text": [
      "{'Asian/Pacific Islander': 5.988156185745018, 'Hispanic': 20.220491210910907, 'White': 33.56849303419181, 'Black': 57.8773477735196, 'Native American/Native Alaskan': 24.521955573811088}\n"
     ]
    }
   ],
   "source": [
    "race_per_hundredk={}\n",
    "for x in race_counts:\n",
    "    race_per_hundredk[x]=(race_counts[x]/mapping[x])*100000\n",
    "print(race_per_hundredk)    "
   ]
  },
  {
   "cell_type": "code",
   "execution_count": null,
   "metadata": {
    "collapsed": true
   },
   "outputs": [],
   "source": []
  },
  {
   "cell_type": "code",
   "execution_count": 13,
   "metadata": {
    "collapsed": false,
    "scrolled": true
   },
   "outputs": [
    {
     "name": "stdout",
     "output_type": "stream",
     "text": [
      "{'Asian/Pacific Islander': 2, 'Hispanic': 2, 'White': 2, 'Black': 20, 'Native American/Native Alaskan': 1}\n"
     ]
    }
   ],
   "source": [
    "intents=[]\n",
    "for x in data:\n",
    "    intent=x[3]\n",
    "    intents.append(intent)\n",
    "    \n",
    "races=[]\n",
    "for x in data:\n",
    "    race=x[7]\n",
    "    races.append(race)\n",
    "    \n",
    "homicide_race_per_hundredk={}\n",
    "\n",
    "for i, races in enumerate(races):\n",
    "    if intents[i]=='Homicide' and races in homicide_race_per_hundredk:\n",
    "        homicide_race_per_hundredk[races]=homicide_race_per_hundredk[races]+1\n",
    "    else:\n",
    "        homicide_race_per_hundredk[races]=1\n",
    "\n",
    "print(homicide_race_per_hundredk)"
   ]
  },
  {
   "cell_type": "code",
   "execution_count": 14,
   "metadata": {
    "collapsed": false,
    "scrolled": true
   },
   "outputs": [
    {
     "name": "stdout",
     "output_type": "stream",
     "text": [
      "{'Asian/Pacific Islander': 0.009031909782420841, 'Hispanic': 0.004482485305012393, 'White': 0.0010135873615710798, 'Black': 0.04968865708578262, 'Native American/Native Alaskan': 0.026741500080491917}\n"
     ]
    }
   ],
   "source": [
    "for x in homicide_race_per_hundredk:\n",
    "    homicide_race_per_hundredk[x]=(homicide_race_per_hundredk[x]/mapping[x])*100000\n",
    "print(homicide_race_per_hundredk) "
   ]
  },
  {
   "cell_type": "code",
   "execution_count": null,
   "metadata": {
    "collapsed": true
   },
   "outputs": [],
   "source": []
  }
 ],
 "metadata": {
  "kernelspec": {
   "display_name": "Python 3",
   "language": "python",
   "name": "python3"
  },
  "language_info": {
   "codemirror_mode": {
    "name": "ipython",
    "version": 3
   },
   "file_extension": ".py",
   "mimetype": "text/x-python",
   "name": "python",
   "nbconvert_exporter": "python",
   "pygments_lexer": "ipython3",
   "version": "3.4.3"
  }
 },
 "nbformat": 4,
 "nbformat_minor": 0
}
